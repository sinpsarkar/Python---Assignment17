{
 "cells": [
  {
   "cell_type": "markdown",
   "metadata": {},
   "source": [
    "## Problem Statement 1:\n",
    "Blood glucose levels for obese patients have a mean of 100 with a standard deviation of 15. A researcher thinks that a diet high in raw cornstarch will have a positive effect on\n",
    "blood glucose levels. A sample of 36 patients who have tried the raw cornstarch diet\n",
    "have a mean glucose level of 108. Test the hypothesis that the raw cornstarch had an\n",
    "effect or not."
   ]
  },
  {
   "cell_type": "code",
   "execution_count": 31,
   "metadata": {},
   "outputs": [],
   "source": [
    "##importing the libraries\n",
    "import scipy.stats as stat\n",
    "import math "
   ]
  },
  {
   "cell_type": "markdown",
   "metadata": {},
   "source": [
    "### Hypotheses:\n",
    "\n",
    "**Null Hypothesis:** Raw cornstarch diet has a positive affect on blood glucose levels<br>\n",
    "**Alternative Hypothesis:**  Raw cornstarch diet does not have any affect <br>\n",
    "**Assumption:** Significance level α is 5% ( 0.05)"
   ]
  },
  {
   "cell_type": "code",
   "execution_count": 13,
   "metadata": {},
   "outputs": [
    {
     "name": "stdout",
     "output_type": "stream",
     "text": [
      "Z-Score=  3.2\n",
      "Probability=  0.9993128620620841\n",
      "\n",
      "The probability of having mean more than 108(1 - prob): 0.0007\n",
      "We note that the probability of having mean more than 108 is LESSER than  Significance level 0.05\n",
      "So, We can reject the Null Hypothesis\n",
      "Hence, Raw cornstarch diet DOES NOT have an affect\n"
     ]
    }
   ],
   "source": [
    "pop_mean =100    # population mean\n",
    "pop_std_dev= 15     # standard deviation of population\n",
    "N = 36    # Sample size \n",
    "X= 108    # Sample mean\n",
    "\n",
    "Z = (X - pop_mean) / (pop_std_dev/math.sqrt(N))\n",
    "\n",
    "print('Z-Score= ',Z)\n",
    "\n",
    "prob = stat.norm.cdf(Z) \n",
    "print('Probability= ',prob)\n",
    "\n",
    "\n",
    "print('\\nThe probability of having mean more than 108(1 - prob):',round(1-prob,4))      \n",
    "\n",
    "\n",
    "if(1-prob<0.05):\n",
    "    print('We note that the probability of having mean more than 108 is LESSER than  Significance level 0.05')\n",
    "    print('So, We can reject the Null Hypothesis')\n",
    "    print('Hence, Raw cornstarch diet DOES NOT have an affect')\n",
    "else:\n",
    "    print('We note that the probability of having mean more than 108 is GREATER than  Significance level 0.05')\n",
    "    print('So, We can NOT reject the Null Hypothesis')\n",
    "    print('Hence, Raw cornstarch diet DOES have an affect')"
   ]
  },
  {
   "cell_type": "markdown",
   "metadata": {},
   "source": [
    "## Problem Statement 2:\n",
    "In one state, 52% of the voters are Republicans, and 48% are Democrats. In a second\n",
    "state, 47% of the voters are Republicans, and 53% are Democrats. Suppose a simple\n",
    "random sample of 100 voters are surveyed from each state.\n",
    "What is the probability that the survey will show a greater percentage of Republican\n",
    "voters in the second state than in the first state?"
   ]
  },
  {
   "cell_type": "code",
   "execution_count": 24,
   "metadata": {},
   "outputs": [
    {
     "name": "stdout",
     "output_type": "stream",
     "text": [
      "Standard deviation: 0.0706\n",
      "Mean Difference: -0.05\n",
      "Z Score: -0.708\n",
      "Probability of having greater percentage of Republican voters in the second state than the first:  0.2395\n"
     ]
    }
   ],
   "source": [
    "p_1_r =52/100                 # Republican voters in the first state\n",
    "p_1_d = 48/100                # Democrats voters in the first state \n",
    "n_1 = 100                     # No. of samples from first state=100\n",
    "\n",
    "p_2_r =47/100                 # Republican voters in the second state \n",
    "p_2_d = 53/100                # Democrats voters in the second state \n",
    "n_2 = 100                     # No. of samples from second state=100\n",
    "\n",
    "\n",
    "# Standard deviation\n",
    "std_dev=  math.sqrt(((p_1_r*p_1_d)/n_1) + ((p_2_r*p_2_d)/n_2))\n",
    "\n",
    "print('Standard deviation:',  round(std_dev,4))\n",
    "\n",
    "#Mean Difference\n",
    "mean_diff = p_2_r  - p_1_r\n",
    "print('Mean Difference:',  round(mean_diff,4))\n",
    "\n",
    "\n",
    "# Z Score\n",
    "\n",
    "Z = mean_diff/std_dev\n",
    "print('Z Score:',  round(Z,4))\n",
    "\n",
    "\n",
    "p = stat.norm.cdf(Z) # cdf function takes Z- score , returns standard normal probality\n",
    "\n",
    "print('Probability of having greater percentage of Republican voters in the second state than the first: ',round(p,4))\n"
   ]
  },
  {
   "cell_type": "markdown",
   "metadata": {},
   "source": [
    "## Problem Statement 3:\n",
    "You take the SAT and score 1100. The mean score for the SAT is 1026 and the standard\n",
    "deviation is 209. How well did you score on the test compared to the average test taker?"
   ]
  },
  {
   "cell_type": "code",
   "execution_count": 29,
   "metadata": {},
   "outputs": [
    {
     "name": "stdout",
     "output_type": "stream",
     "text": [
      "Z-Score=  0.35406698564593303\n",
      "\n",
      "Probability of having my score more than averge: \n",
      "63.84 %\n"
     ]
    }
   ],
   "source": [
    "X = 1100           #Sample value\n",
    "std_dev = 209      # Standard deviation\n",
    "mean = 1026        # Mean SAT score\n",
    "N = 1              # No of Samples\n",
    "\n",
    "Z = (X - mean) / (std_dev/math.sqrt(N))\n",
    "print('Z-Score= ', Z)\n",
    "\n",
    "print('\\nProbability of having my score more than averge: ')\n",
    "\n",
    "p = stat.norm.cdf(Z) \n",
    "print(round(p*100,2),'%')"
   ]
  }
 ],
 "metadata": {
  "kernelspec": {
   "display_name": "Python 3",
   "language": "python",
   "name": "python3"
  },
  "language_info": {
   "codemirror_mode": {
    "name": "ipython",
    "version": 3
   },
   "file_extension": ".py",
   "mimetype": "text/x-python",
   "name": "python",
   "nbconvert_exporter": "python",
   "pygments_lexer": "ipython3",
   "version": "3.7.1"
  }
 },
 "nbformat": 4,
 "nbformat_minor": 2
}
